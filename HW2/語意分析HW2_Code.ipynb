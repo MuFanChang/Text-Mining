{
 "cells": [
  {
   "cell_type": "code",
   "execution_count": 1,
   "metadata": {
    "collapsed": false,
    "scrolled": true
   },
   "outputs": [],
   "source": [
    "import numpy as np\n",
    "import math\n",
    "\n",
    "#***(1) 讀入資料後，使用corpus=news.split(sep='\\n') : 使用此方法將corpus斷開，取得每一份document。***\n",
    "fp = open(\"TMBD_news_files_2000.txt\",\"r\")\n",
    "news = fp.read()\n",
    "corpus = news.split(sep='\\n')\n",
    "\n",
    "#***(2) 讀入stopword & punctuation並合併為Removewords。***\n",
    "stopword = open(\"stopword_chinese.txt\",\"r\")\n",
    "stopwords = stopword.read()\n",
    "sws = stopwords.split()\n",
    "\n",
    "punctuation = open(\"punctuation.txt\",\"r\")\n",
    "punc = punctuation.read()\n",
    "pc = punc.split()\n",
    "\n",
    "sws.extend(pc)\n",
    "Removewords = sws\n",
    "\n",
    "#***(3) 定義function來移除Removewords。***\n",
    "def removeStopwords(tokens,sws):\n",
    "    return [w for w in tokens if w not in sws]\n",
    "\n",
    "#***(4) 變為小寫並分割出各document的token。***\n",
    "doctoken = []\n",
    "for c in range(0,len(corpus)):\n",
    "    doctoken.append(removeStopwords((corpus[c].lower().split()),Removewords))\n",
    "\n",
    "#***(5) 移除第一個值（文章開頭之編號）。***\n",
    "for i in range(0,len(doctoken)):\n",
    "    del doctoken[i][0]\n",
    "#print(doctoken[0][0])\n"
   ]
  },
  {
   "cell_type": "code",
   "execution_count": 2,
   "metadata": {
    "collapsed": false,
    "scrolled": true
   },
   "outputs": [],
   "source": [
    "#***(6) 得到corpus的term_dictionary。***\n",
    "term_lib = news.lower().split()\n",
    "term_dict = set(removeStopwords(term_lib,Removewords))\n",
    "term_dict = list(term_dict)"
   ]
  },
  {
   "cell_type": "code",
   "execution_count": null,
   "metadata": {
    "collapsed": true
   },
   "outputs": [],
   "source": [
    "#***(7) 定義func來計算tf(use numpy to create array)。***\n",
    "def termFrequency(doctoken):\n",
    "    tf_vector = np.zeros([len(term_dict),1])\n",
    "    for t in doctoken:\n",
    "        tf_vector[term_dict.index(t),0] = doctoken.count(t)\n",
    "    return tf_vector\n",
    "tf_doc = []\n",
    "for d in range(0,len(doctoken)):\n",
    "    tf_doc.append(termFrequency(doctoken[d]))"
   ]
  },
  {
   "cell_type": "code",
   "execution_count": null,
   "metadata": {
    "collapsed": false
   },
   "outputs": [],
   "source": [
    "#***(8) 用numpy產生空的idf_vector，定義func計算idf\n",
    "#***   (先求df再利用判斷式判斷df值，並藉此計算idf值，後塞入idf_vector)。***\n",
    "idf_vector = np.zeros([len(term_dict),1])\n",
    "def inverseDocumentFrequency(term):\n",
    "    numDocumentsWithThisTerm = 0\n",
    "    for doc in range(0,len(doctoken)):\n",
    "            if term in doctoken[doc]:\n",
    "                numDocumentsWithThisTerm = numDocumentsWithThisTerm + 1\n",
    "    \n",
    "    if numDocumentsWithThisTerm > 0:\n",
    "        idf_vector[term_dict.index(term),0] = math.log10(float(len(doctoken)) / numDocumentsWithThisTerm)\n",
    "    else:\n",
    "        idf_vector[term_dict.index(term),0] = 0\n",
    "    return idf_vector\n",
    "\n",
    "for t in term_dict:\n",
    "    inverseDocumentFrequency(t)"
   ]
  },
  {
   "cell_type": "code",
   "execution_count": null,
   "metadata": {
    "collapsed": false
   },
   "outputs": [],
   "source": [
    "#***(9) 求tfidf，迴圈對每篇document的tf值去乘上idf值。***\n",
    "tfidf_doc = []\n",
    "for doc in range(0,len(tf_doc)):\n",
    "    tfidf_doc.append(tf_doc[doc]*idf_vector)"
   ]
  },
  {
   "cell_type": "code",
   "execution_count": null,
   "metadata": {
    "collapsed": false
   },
   "outputs": [],
   "source": [
    "#***(10) 定義func，一個計算tfidf值的平方和開根號，另一個計算相似度。***\n",
    "def sqrt_sum_square(tfidf):\n",
    "    return np.sqrt(sum(np.square(tfidf)))\n",
    "    \n",
    "def similarity(tfidf1,tfidf2): \n",
    "    return (np.dot(tfidf1.T,tfidf2)[0][0]) / ((sqrt_sum_square(tfidf1)[0]) * (sqrt_sum_square(tfidf2)[0]))"
   ]
  },
  {
   "cell_type": "code",
   "execution_count": null,
   "metadata": {
    "collapsed": false
   },
   "outputs": [],
   "source": [
    "#***(11) for迴圈計算各doc，與第56篇doc的相似度（因為起始值為0所以為55）。***\n",
    "sim = []\n",
    "for i in range(0,len(tfidf_doc)):\n",
    "    sim.append(similarity(tfidf_doc[55],tfidf_doc[i]))"
   ]
  },
  {
   "cell_type": "code",
   "execution_count": null,
   "metadata": {
    "collapsed": false
   },
   "outputs": [],
   "source": [
    "#***(12) 給定空字典sim_dic，利用enumerate將各doc的相似度與doc名配對，並塞入sim_dic。***\n",
    "sim_dic = dict()\n",
    "for i,s in enumerate(sim):\n",
    "    sim_dic['Doc%s' % (i+1)] = s"
   ]
  },
  {
   "cell_type": "code",
   "execution_count": null,
   "metadata": {
    "collapsed": false
   },
   "outputs": [],
   "source": [
    "#***(13) 按照value對sim_dic反向排序，並找出最大相似前10筆。***\n",
    "sorted(sim_dic.values(),reverse=True)"
   ]
  },
  {
   "cell_type": "code",
   "execution_count": null,
   "metadata": {
    "collapsed": false
   },
   "outputs": [],
   "source": [
    "#***(14) 反向排序後，顯示排序後的key值。***\n",
    "sorted(sim_dic, key=sim_dic.get,reverse=True)"
   ]
  }
 ],
 "metadata": {
  "anaconda-cloud": {},
  "kernelspec": {
   "display_name": "Python [conda root]",
   "language": "python",
   "name": "conda-root-py"
  },
  "language_info": {
   "codemirror_mode": {
    "name": "ipython",
    "version": 3
   },
   "file_extension": ".py",
   "mimetype": "text/x-python",
   "name": "python",
   "nbconvert_exporter": "python",
   "pygments_lexer": "ipython3",
   "version": "3.5.2"
  }
 },
 "nbformat": 4,
 "nbformat_minor": 1
}
