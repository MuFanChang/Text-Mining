{
 "cells": [
  {
   "cell_type": "markdown",
   "metadata": {
    "collapsed": true
   },
   "source": [
    "# 1. Training Data"
   ]
  },
  {
   "cell_type": "code",
   "execution_count": 1,
   "metadata": {
    "collapsed": false
   },
   "outputs": [],
   "source": [
    "# import 需要的 package\n",
    "import re\n",
    "import math\n",
    "import functools\n",
    "import pandas as pd\n",
    "from collections import Counter"
   ]
  },
  {
   "cell_type": "code",
   "execution_count": 2,
   "metadata": {
    "collapsed": true
   },
   "outputs": [],
   "source": [
    "# 讀取TrainingData 並按照換行符號切為各篇文章\n",
    "fp = open(\"TrainingData.txt\",\"r\")\n",
    "train = fp.read().split(sep='\\n')"
   ]
  },
  {
   "cell_type": "code",
   "execution_count": 3,
   "metadata": {
    "collapsed": false
   },
   "outputs": [],
   "source": [
    "# 將各篇文章內容按照tab符號切開，並存入new_train這個list\n",
    "new_train = []\n",
    "for i in range(0,len(train)):\n",
    "    new_train.append(train[i].split(sep='\\t'))"
   ]
  },
  {
   "cell_type": "code",
   "execution_count": 4,
   "metadata": {
    "collapsed": false
   },
   "outputs": [],
   "source": [
    "# 將new_train中各文章按照：位置0 = 文章編號，位置1 = 文章label，位置2 = 文章內文，各自存入三個不同list \n",
    "trainID = []\n",
    "for i in range(0,len(train)):\n",
    "    trainID.append(new_train[i][0])\n",
    "\n",
    "trainlabel = []\n",
    "for i in range(0,len(train)):\n",
    "    trainlabel.append(new_train[i][1])\n",
    "\n",
    "traincorpus = []\n",
    "for i in range(0,len(train)):\n",
    "    traincorpus.append(new_train[i][2])"
   ]
  },
  {
   "cell_type": "code",
   "execution_count": 5,
   "metadata": {
    "collapsed": false
   },
   "outputs": [],
   "source": [
    "# 讀入stopword & punctuation 並合併為Removewords\n",
    "stopword = open(\"stopword_chinese.txt\",\"r\")\n",
    "stopwords = stopword.read()\n",
    "sws = stopwords.split()\n",
    "\n",
    "punctuation = open(\"punctuation.txt\",\"r\")\n",
    "punc = punctuation.read()\n",
    "puc = punc.split()\n",
    "\n",
    "sws.extend(puc)\n",
    "Removewords = sws\n",
    "\n",
    "# 使用re來移除Removewords\n",
    "traincorp = []\n",
    "for c in range(0,len(traincorpus)):\n",
    "    traincorp.append(re.sub('[%s]' % re.escape(''.join(sws)),'',traincorpus[c].lower()))\n",
    "\n",
    "# 將各文章內容按空格切成token\n",
    "traincorpus_token = []\n",
    "for c in range(0,len(traincorp)):\n",
    "    traincorpus_token.append(traincorp[c].split())"
   ]
  },
  {
   "cell_type": "code",
   "execution_count": 6,
   "metadata": {
    "collapsed": false
   },
   "outputs": [],
   "source": [
    "# 製作TrainingData 的vocabulary\n",
    "train_term = []\n",
    "for i in range(0,len(traincorpus_token)):\n",
    "    train_term.extend(traincorpus_token[i])\n",
    "vocabulary = list(set(train_term))"
   ]
  },
  {
   "cell_type": "code",
   "execution_count": 7,
   "metadata": {
    "collapsed": false
   },
   "outputs": [],
   "source": [
    "# 使用Counter 計數並求出P(c) ，P(c)為文章屬於運動類的比率\n",
    "c = Counter(trainlabel)\n",
    "Pc = (c['sports']/len(trainlabel))\n",
    "Pnotc = 1-Pc"
   ]
  },
  {
   "cell_type": "code",
   "execution_count": 8,
   "metadata": {
    "collapsed": false
   },
   "outputs": [],
   "source": [
    "# 製作 sports 及 politics 類別各文章的 token\n",
    "sports_token = traincorpus_token[0:2000]\n",
    "politics_token = traincorpus_token[2000:3500]"
   ]
  },
  {
   "cell_type": "code",
   "execution_count": 9,
   "metadata": {
    "collapsed": false
   },
   "outputs": [],
   "source": [
    "# 製作  sports 及 politics 類別的總token\n",
    "sports_term = []\n",
    "for i in range(0,len(sports_token)):\n",
    "    sports_term.extend(sports_token[i])\n",
    "politics_term = []\n",
    "for i in range(0,len(politics_token)):\n",
    "    politics_term.extend(politics_token[i])"
   ]
  },
  {
   "cell_type": "code",
   "execution_count": 10,
   "metadata": {
    "collapsed": false
   },
   "outputs": [],
   "source": [
    "# 使用Counter 計數，並將結果存至dictionary\n",
    "s = Counter(sports_term)\n",
    "p = Counter(politics_term)\n",
    "\n",
    "s_dict = dict(s)\n",
    "p_dict = dict(p)"
   ]
  },
  {
   "cell_type": "markdown",
   "metadata": {},
   "source": [
    "# 2. Testing Data"
   ]
  },
  {
   "cell_type": "code",
   "execution_count": 11,
   "metadata": {
    "collapsed": true
   },
   "outputs": [],
   "source": [
    "# 讀取TestingData 並按照換行符號切為各篇文章\n",
    "fp = open(\"TestData.txt\",\"r\")\n",
    "test = fp.read().split(sep='\\n')"
   ]
  },
  {
   "cell_type": "code",
   "execution_count": 12,
   "metadata": {
    "collapsed": true
   },
   "outputs": [],
   "source": [
    "# 將各篇文章內容按照tab符號切開，並存入new_test這個list\n",
    "new_test = []\n",
    "for i in range(0,len(test)):\n",
    "    new_test.append(test[i].split(sep='\\t'))"
   ]
  },
  {
   "cell_type": "code",
   "execution_count": 13,
   "metadata": {
    "collapsed": false
   },
   "outputs": [],
   "source": [
    "# 將new_test中各文章按照：位置0 = 文章編號，位置1 = 文章內文，各自存入兩個不同list \n",
    "testID = []\n",
    "for i in range(0,len(test)):\n",
    "    testID.append(new_test[i][0])\n",
    "\n",
    "testcorpus = []\n",
    "for i in range(0,len(test)):\n",
    "    testcorpus.append(new_test[i][1])"
   ]
  },
  {
   "cell_type": "code",
   "execution_count": 14,
   "metadata": {
    "collapsed": false
   },
   "outputs": [],
   "source": [
    "# 使用re來移除Removewords\n",
    "testcorp = []\n",
    "for c in range(0,len(testcorpus)):\n",
    "    testcorp.append(re.sub('[%s]' % re.escape(''.join(sws)),'',testcorpus[c].lower()))\n",
    "\n",
    "# 將各文章內容按空格切成token\n",
    "testcorpus_token = []\n",
    "for c in range(0,len(testcorp)):\n",
    "    testcorpus_token.append(testcorp[c].split())"
   ]
  },
  {
   "cell_type": "code",
   "execution_count": 15,
   "metadata": {
    "collapsed": false
   },
   "outputs": [],
   "source": [
    "# 定義function 文章的每個字使用training結果的機率值 ， 因為值都小於零所以取log讓數值不會越乘越小\n",
    "def Pc_of_d(document):\n",
    "    Pcd = []\n",
    "    for i in document:\n",
    "        if i in s_dict.keys():\n",
    "            Pcd.append(math.log(((s_dict[i]+1)/(len(sports_term)+len(vocabulary)))))\n",
    "        else:\n",
    "            Pcd.append(math.log(((0+1)/(len(sports_term)+len(vocabulary)))))\n",
    "    return Pcd\n",
    "\n",
    "def Pnotc_of_d(document):\n",
    "    Pnotcd = []\n",
    "    for i in document:\n",
    "        if i in p_dict.keys():\n",
    "            Pnotcd.append(math.log(((p_dict[i]+1)/(len(politics_term)+len(vocabulary)))))\n",
    "        else:\n",
    "            Pnotcd.append(math.log(((0+1)/(len(politics_term)+len(vocabulary)))))\n",
    "    return Pnotcd"
   ]
  },
  {
   "cell_type": "code",
   "execution_count": 16,
   "metadata": {
    "collapsed": false,
    "scrolled": true
   },
   "outputs": [],
   "source": [
    "# 對每篇文章使用function計算它的每個字，屬於sports及不屬於sports的log機率值\n",
    "new_Pcd = []\n",
    "for i in range(0,len(testcorpus_token)):\n",
    "    box = Pc_of_d(testcorpus_token[i])\n",
    "    new_Pcd.append(box)\n",
    "\n",
    "new_Pnotcd = []\n",
    "for i in range(0,len(testcorpus_token)):\n",
    "    box = Pnotc_of_d(testcorpus_token[i])\n",
    "    new_Pnotcd.append(box)"
   ]
  },
  {
   "cell_type": "code",
   "execution_count": 17,
   "metadata": {
    "collapsed": false,
    "scrolled": true
   },
   "outputs": [],
   "source": [
    "# 將每篇文章的每個字的log機率值相加，且加上屬於sports及不屬於sports的log機率值\n",
    "Pc_d = []\n",
    "for i in range(0,len(new_Pcd)):\n",
    "    Pc_d.append(math.log(Pc) + functools.reduce(lambda x,y : x+y,new_Pcd[i]))\n",
    "    \n",
    "Pnotc_d = []\n",
    "for i in range(0,len(new_Pnotcd)):\n",
    "    Pnotc_d.append(math.log(Pnotc) + functools.reduce(lambda x,y : x+y,new_Pnotcd[i]))"
   ]
  },
  {
   "cell_type": "code",
   "execution_count": 18,
   "metadata": {
    "collapsed": false,
    "scrolled": true
   },
   "outputs": [],
   "source": [
    "# 用if-else邏輯判斷文章屬於sports或politics類別\n",
    "result_label = []\n",
    "for i in range(0,len(Pc_d)):\n",
    "    if Pc_d[i] > Pnotc_d[i]:\n",
    "        result_label.append('sports')\n",
    "    else:\n",
    "        result_label.append('politics')"
   ]
  },
  {
   "cell_type": "code",
   "execution_count": 19,
   "metadata": {
    "collapsed": false,
    "scrolled": true
   },
   "outputs": [],
   "source": [
    "# 將判斷結果用pandas存出來\n",
    "d = {'DocumentID' : pd.Series(testID),\n",
    "     'DocumentLabel' : pd.Series(result_label)}\n",
    "df = pd.DataFrame(d)\n",
    "df.to_csv('test_result.csv',header=True)"
   ]
  },
  {
   "cell_type": "code",
   "execution_count": null,
   "metadata": {
    "collapsed": true
   },
   "outputs": [],
   "source": []
  }
 ],
 "metadata": {
  "anaconda-cloud": {},
  "kernelspec": {
   "display_name": "Python [conda root]",
   "language": "python",
   "name": "conda-root-py"
  },
  "language_info": {
   "codemirror_mode": {
    "name": "ipython",
    "version": 3
   },
   "file_extension": ".py",
   "mimetype": "text/x-python",
   "name": "python",
   "nbconvert_exporter": "python",
   "pygments_lexer": "ipython3",
   "version": "3.5.2"
  }
 },
 "nbformat": 4,
 "nbformat_minor": 1
}
